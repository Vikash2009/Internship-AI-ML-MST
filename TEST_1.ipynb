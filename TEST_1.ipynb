{
  "nbformat": 4,
  "nbformat_minor": 0,
  "metadata": {
    "colab": {
      "provenance": [],
      "authorship_tag": "ABX9TyPPSMPz2hIotfK7B0D4ZeOJ",
      "include_colab_link": true
    },
    "kernelspec": {
      "name": "python3",
      "display_name": "Python 3"
    },
    "language_info": {
      "name": "python"
    }
  },
  "cells": [
    {
      "cell_type": "markdown",
      "metadata": {
        "id": "view-in-github",
        "colab_type": "text"
      },
      "source": [
        "<a href=\"https://colab.research.google.com/github/Vikash2009/Internship-AI-ML-MST-/blob/main/TEST_1.ipynb\" target=\"_parent\"><img src=\"https://colab.research.google.com/assets/colab-badge.svg\" alt=\"Open In Colab\"/></a>"
      ]
    },
    {
      "cell_type": "code",
      "source": [
        "# Q1) ans= C\n",
        "# Q2) ans= A\n",
        "# Q3) ans= B\n",
        "# Q4) ans= A\n",
        "# Q5) ans= A\n",
        "# Q6) ans= C\n",
        "# Q7) ans= D\n",
        "# Q8) ans=\n",
        "# Q9) ans= A\n",
        "# Q10) ans= D\n",
        "# Q11) ans= D\n",
        "# Q12) ans= D\n",
        "# Q13) ans = B,C\n",
        "# Q14) ans =D\n",
        "# Q15) ans =\n",
        "# Q16) ans= A\n",
        "# Q17) ans= B\n"
      ],
      "metadata": {
        "id": "pDxT2pD3Bwnb"
      },
      "execution_count": 5,
      "outputs": []
    },
    {
      "cell_type": "markdown",
      "source": [
        "# **Python Basics ques:**"
      ],
      "metadata": {
        "id": "vIlEv6XDFKb8"
      }
    },
    {
      "cell_type": "markdown",
      "source": [
        "**Q1**"
      ],
      "metadata": {
        "id": "vPSbSSCJFRp3"
      }
    },
    {
      "cell_type": "code",
      "source": [
        "nums = input(\"Enter a list of integers separated by spaces: \").split()\n",
        "nums = [int(num) for num in nums]\n",
        "\n",
        "target = int(input(\"Enter the target sum: \"))\n",
        "\n",
        "num_map = {}\n",
        "\n",
        "for num in nums:\n",
        "    complement = target - num\n",
        "\n",
        "    if complement in num_map:\n",
        "        print(f\"Pair found: {num} and {complement}\")\n",
        "        break\n",
        "\n",
        "    num_map[num] = True\n",
        "else:\n",
        "\n",
        "    print(\"Pair not found\")\n"
      ],
      "metadata": {
        "colab": {
          "base_uri": "https://localhost:8080/"
        },
        "id": "uwshZpxgGPHT",
        "outputId": "06d9a33c-acd6-4017-90d8-0348a042ced3"
      },
      "execution_count": 9,
      "outputs": [
        {
          "output_type": "stream",
          "name": "stdout",
          "text": [
            "Enter a list of integers separated by spaces: 1 2 3 4 5 6 7\n",
            "Enter the target sum: 7\n",
            "Pair found: 4 and 3\n"
          ]
        }
      ]
    },
    {
      "cell_type": "markdown",
      "source": [
        "**Q2**"
      ],
      "metadata": {
        "id": "EQZ22PQzLBBm"
      }
    },
    {
      "cell_type": "code",
      "source": [
        "l1 = [1, 2, 3, 4, 1, 2, 1, 3, 4, 5, 1]\n",
        "\n",
        "count_dict = {}\n",
        "\n",
        "for i in l1:\n",
        "    if i in count_dict:\n",
        "        count_dict[i] += 1\n",
        "    else:\n",
        "        count_dict[i] = 1\n",
        "\n",
        "print(count_dict)\n"
      ],
      "metadata": {
        "colab": {
          "base_uri": "https://localhost:8080/"
        },
        "id": "bGV8UTzoLDta",
        "outputId": "8b32de96-4a26-4d48-d9cd-72989f49145b"
      },
      "execution_count": 18,
      "outputs": [
        {
          "output_type": "stream",
          "name": "stdout",
          "text": [
            "{1: 4, 2: 2, 3: 2, 4: 2, 5: 1}\n"
          ]
        }
      ]
    },
    {
      "cell_type": "markdown",
      "source": [
        "**Q3**"
      ],
      "metadata": {
        "id": "FQvc50hkGmdE"
      }
    },
    {
      "cell_type": "code",
      "source": [
        "num = int(input(\"Enter an integer: \"))\n",
        "num_str = str(num)\n",
        "sum= 0\n",
        "for i in num_str:\n",
        "    sum += int(i)\n",
        "print(f\"The sum of the digits in {num} is: {sum}\")\n",
        "\n"
      ],
      "metadata": {
        "colab": {
          "base_uri": "https://localhost:8080/"
        },
        "id": "mD6GEXlJGP6U",
        "outputId": "e04070ca-a6c3-45e2-cef0-3bc31f1f0601"
      },
      "execution_count": 11,
      "outputs": [
        {
          "output_type": "stream",
          "name": "stdout",
          "text": [
            "Enter an integer: 456\n",
            "The sum of the digits in 456 is: 15\n"
          ]
        }
      ]
    },
    {
      "cell_type": "markdown",
      "source": [
        "# **Theory Ques:**"
      ],
      "metadata": {
        "id": "m7rJwJphLOaJ"
      }
    },
    {
      "cell_type": "markdown",
      "source": [
        "**Q1) Ans:** A confusion matrix is a table that is often used to describe the performance of a classification model on a set of test.\n",
        "  \n",
        "   Actual           Positive   Negative\n",
        "Predicted  Positive    TP         FP\n",
        "           Negative    FN         TN\n",
        "        \n",
        "TP (True Positive)\n",
        "FP (False Positive)\n",
        "FN (False Negative)\n",
        "TN (True Negative)\n",
        "\n",
        " Metrices:\n",
        "*  Accuracy: (TP + TN) / (TP + TN + FP + FN) - Measures the overall accuracy of the model.\n",
        "* Precision: TP / (TP + FP) - Measures the accuracy of the positive predictions.\n",
        "* Recall (Sensitivity): TP / (TP + FN) - Measures the proportion of actual positives that are correctly identified.\n",
        "\n"
      ],
      "metadata": {
        "id": "mYi61Ss0LWeY"
      }
    },
    {
      "cell_type": "markdown",
      "source": [
        "**Q2) Ans:**\n",
        "* np.linspace(start, stop, num): Generates an array of num evenly spaced values over the interval [start, stop], inclusive of both start and stop. The spacing between the values is constant. For example, np.linspace(0, 10, 5) will generate the array [0.0, 2.5, 5.0, 7.5, 10.0].\n",
        "* np.arange(start, stop, step): Generates an array of values starting from start and ending before stop, with a step size of step. The values are generated up to, but not including, stop. For example, np.arange(0, 10, 2) will generate the array [0, 2, 4, 6, 8]."
      ],
      "metadata": {
        "id": "DxxvGY1dMs38"
      }
    },
    {
      "cell_type": "markdown",
      "source": [
        "**Q3) Ans:**\n",
        "* Overfitting: This occurs when a model learns the training data too well, capturing noise or random fluctuations in the data rather than the underlying pattern. An overfitted model performs well on the training data but poorly on new, unseen data.\n",
        "* Underfitting: This occurs when a model is too simple to capture the underlying pattern of the data. An underfitted model performs poorly on both the training and test data because it fails to capture the underlying relationships in the data."
      ],
      "metadata": {
        "id": "9x-DlQ9pNXh1"
      }
    },
    {
      "cell_type": "markdown",
      "source": [
        "# **Mathematics**"
      ],
      "metadata": {
        "id": "9tp4eVPBN8X3"
      }
    },
    {
      "cell_type": "markdown",
      "source": [
        "**Q2) ans:**\n",
        "Outliers are data points that significantly differ from other observations in a dataset. Outliers can distort statistical analyses and machine learning models, leading to incorrect conclusions or poor model performance. Identifying and handling outliers is important to ensure the integrity and accuracy of data analysis results.\n",
        "* IQR method:\n",
        "The IQR (Interquartile Range) method is another approach for detecting outliers in a dataset. It involves calculating the IQR, which is the range between the first quartile (Q1) and the third quartile (Q3) of the data. Outliers are then defined as data points that fall below Q1 - 1.5 * IQR or above Q3 + 1.5 * IQR."
      ],
      "metadata": {
        "id": "XFzFClVYPwjZ"
      }
    },
    {
      "cell_type": "code",
      "source": [],
      "metadata": {
        "id": "m14xZJ5pKd5E"
      },
      "execution_count": null,
      "outputs": []
    }
  ]
}